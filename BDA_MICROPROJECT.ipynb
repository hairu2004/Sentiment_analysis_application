{
  "cells": [
    {
      "cell_type": "code",
      "source": [
        "from pyspark.sql import SparkSession"
      ],
      "metadata": {
        "id": "AKKaBf0uAxP_"
      },
      "execution_count": null,
      "outputs": []
    },
    {
      "cell_type": "code",
      "source": [
        "spark = SparkSession.builder.appName(\"SentimentAnalysis\").getOrCreate()"
      ],
      "metadata": {
        "id": "AD3z56PaAy64"
      },
      "execution_count": null,
      "outputs": []
    },
    {
      "cell_type": "code",
      "source": [
        "df = spark.read.csv(\"/content/drive/MyDrive/BDA/twitter_training.csv\", header=False, inferSchema=True)\n"
      ],
      "metadata": {
        "id": "n6CRg_eJA7M0"
      },
      "execution_count": null,
      "outputs": []
    },
    {
      "cell_type": "code",
      "source": [
        "df.show(5)"
      ],
      "metadata": {
        "colab": {
          "base_uri": "https://localhost:8080/"
        },
        "id": "korffKcCBCHG",
        "outputId": "49dc74b4-86b0-49ac-8e3c-7916c1b36f09"
      },
      "execution_count": null,
      "outputs": [
        {
          "output_type": "stream",
          "name": "stdout",
          "text": [
            "+----+-----------+--------+--------------------+\n",
            "| _c0|        _c1|     _c2|                 _c3|\n",
            "+----+-----------+--------+--------------------+\n",
            "|2401|Borderlands|Positive|im getting on bor...|\n",
            "|2401|Borderlands|Positive|I am coming to th...|\n",
            "|2401|Borderlands|Positive|im getting on bor...|\n",
            "|2401|Borderlands|Positive|im coming on bord...|\n",
            "|2401|Borderlands|Positive|im getting on bor...|\n",
            "+----+-----------+--------+--------------------+\n",
            "only showing top 5 rows\n",
            "\n"
          ]
        }
      ]
    },
    {
      "cell_type": "code",
      "source": [
        "df.printSchema()"
      ],
      "metadata": {
        "colab": {
          "base_uri": "https://localhost:8080/"
        },
        "id": "XLAEbXwQBF2U",
        "outputId": "784570c5-066f-4c63-cf9a-b8ce7747b90c"
      },
      "execution_count": null,
      "outputs": [
        {
          "output_type": "stream",
          "name": "stdout",
          "text": [
            "root\n",
            " |-- _c0: integer (nullable = true)\n",
            " |-- _c1: string (nullable = true)\n",
            " |-- _c2: string (nullable = true)\n",
            " |-- _c3: string (nullable = true)\n",
            "\n"
          ]
        }
      ]
    },
    {
      "cell_type": "code",
      "source": [
        "df = df.withColumnRenamed(\"_c0\", \"ID\")\\\n",
        "       .withColumnRenamed(\"_c1\", \"platform\")\\\n",
        "       .withColumnRenamed(\"_c2\", \"sentiment\")\\\n",
        "       .withColumnRenamed(\"_c3\", \"tweet_content\")"
      ],
      "metadata": {
        "id": "AdKM4cDmBHiV"
      },
      "execution_count": null,
      "outputs": []
    },
    {
      "cell_type": "code",
      "source": [
        "df.show(5)"
      ],
      "metadata": {
        "colab": {
          "base_uri": "https://localhost:8080/"
        },
        "id": "vlIyYP7gBI9l",
        "outputId": "da1c9fda-a10b-411e-f392-a42625ffc414"
      },
      "execution_count": null,
      "outputs": [
        {
          "output_type": "stream",
          "name": "stdout",
          "text": [
            "+----+-----------+---------+--------------------+\n",
            "|  ID|   platform|sentiment|       tweet_content|\n",
            "+----+-----------+---------+--------------------+\n",
            "|2401|Borderlands| Positive|im getting on bor...|\n",
            "|2401|Borderlands| Positive|I am coming to th...|\n",
            "|2401|Borderlands| Positive|im getting on bor...|\n",
            "|2401|Borderlands| Positive|im coming on bord...|\n",
            "|2401|Borderlands| Positive|im getting on bor...|\n",
            "+----+-----------+---------+--------------------+\n",
            "only showing top 5 rows\n",
            "\n"
          ]
        }
      ]
    },
    {
      "cell_type": "code",
      "source": [
        "df_clean = df.dropDuplicates([\"ID\", \"tweet_content\"])"
      ],
      "metadata": {
        "id": "vV5oswEYBKCH"
      },
      "execution_count": null,
      "outputs": []
    },
    {
      "cell_type": "code",
      "source": [
        "df_clean = df_clean.dropna()"
      ],
      "metadata": {
        "id": "OjdpW5KDBLXf"
      },
      "execution_count": null,
      "outputs": []
    },
    {
      "cell_type": "code",
      "source": [
        "df_clean.show(5)"
      ],
      "metadata": {
        "colab": {
          "base_uri": "https://localhost:8080/"
        },
        "id": "vSC6E8yWBMmN",
        "outputId": "6afce7b0-03bc-408c-f039-d14fcdadfc8c"
      },
      "execution_count": null,
      "outputs": [
        {
          "output_type": "stream",
          "name": "stdout",
          "text": [
            "+---+--------+---------+--------------------+\n",
            "| ID|platform|sentiment|       tweet_content|\n",
            "+---+--------+---------+--------------------+\n",
            "|  1|  Amazon| Negative|          <unk> wtf.|\n",
            "|  1|  Amazon| Negative|       @ amazon wtf.|\n",
            "|  2|  Amazon| Negative|I am really disap...|\n",
            "|  2|  Amazon| Negative|I mean ’ wa m rea...|\n",
            "|  2|  Amazon| Negative|I'm really disapp...|\n",
            "+---+--------+---------+--------------------+\n",
            "only showing top 5 rows\n",
            "\n"
          ]
        }
      ]
    },
    {
      "cell_type": "code",
      "source": [
        "from pyspark.sql.functions import col, lower, regexp_replace\n",
        "from pyspark.ml.feature import Tokenizer"
      ],
      "metadata": {
        "id": "qcJa8Mz2BOJ3"
      },
      "execution_count": null,
      "outputs": []
    },
    {
      "cell_type": "code",
      "source": [
        "df_clean = df_clean.withColumn(\"cleaned_tweet\", lower(col(\"tweet_content\")))\n",
        "df_clean = df_clean.withColumn(\"cleaned_tweet\", regexp_replace(col(\"cleaned_tweet\"), \"[^a-zA-Z\\\\s]\", \"\"))"
      ],
      "metadata": {
        "id": "3eNUfm4YBP-M"
      },
      "execution_count": null,
      "outputs": []
    },
    {
      "cell_type": "code",
      "source": [
        "tokenizer = Tokenizer(inputCol=\"cleaned_tweet\", outputCol=\"tokens\")\n",
        "df_clean = tokenizer.transform(df_clean)"
      ],
      "metadata": {
        "id": "XSdGeklKBRBB"
      },
      "execution_count": null,
      "outputs": []
    },
    {
      "cell_type": "code",
      "source": [
        "df_clean.select(\"ID\", \"tokens\").show(5)"
      ],
      "metadata": {
        "colab": {
          "base_uri": "https://localhost:8080/"
        },
        "id": "sMwp8r1vBSF2",
        "outputId": "c99ac65c-e8cf-4836-8ae3-960da4c86bbf"
      },
      "execution_count": null,
      "outputs": [
        {
          "output_type": "stream",
          "name": "stdout",
          "text": [
            "+---+--------------------+\n",
            "| ID|              tokens|\n",
            "+---+--------------------+\n",
            "|  1|          [unk, wtf]|\n",
            "|  1|     [, amazon, wtf]|\n",
            "|  2|[i, am, really, d...|\n",
            "|  2|[i, mean, , wa, m...|\n",
            "|  2|[im, really, disa...|\n",
            "+---+--------------------+\n",
            "only showing top 5 rows\n",
            "\n"
          ]
        }
      ]
    },
    {
      "cell_type": "code",
      "source": [
        "from pyspark.sql.functions import when"
      ],
      "metadata": {
        "id": "MQEn_xiABTFW"
      },
      "execution_count": null,
      "outputs": []
    },
    {
      "cell_type": "code",
      "source": [
        "df_clean = df_clean.withColumn(\"sentiment_label\", when(col(\"sentiment\") == \"Positive\", 1).otherwise(0))"
      ],
      "metadata": {
        "id": "sfLmC_gfBUgc"
      },
      "execution_count": null,
      "outputs": []
    },
    {
      "cell_type": "code",
      "source": [
        "df_clean.select(\"ID\", \"sentiment\", \"sentiment_label\").show(5)"
      ],
      "metadata": {
        "colab": {
          "base_uri": "https://localhost:8080/"
        },
        "id": "56OrwVlgBWHq",
        "outputId": "eb139c73-0c14-466a-bd66-b6af7a5b91bf"
      },
      "execution_count": null,
      "outputs": [
        {
          "output_type": "stream",
          "name": "stdout",
          "text": [
            "+---+---------+---------------+\n",
            "| ID|sentiment|sentiment_label|\n",
            "+---+---------+---------------+\n",
            "|  1| Negative|              0|\n",
            "|  1| Negative|              0|\n",
            "|  2| Negative|              0|\n",
            "|  2| Negative|              0|\n",
            "|  2| Negative|              0|\n",
            "+---+---------+---------------+\n",
            "only showing top 5 rows\n",
            "\n"
          ]
        }
      ]
    },
    {
      "cell_type": "code",
      "source": [
        "df_filtered = df_clean.filter((col(\"sentiment\") == \"Positive\") | (col(\"sentiment\") == \"Negative\"))"
      ],
      "metadata": {
        "id": "Y5E3zOsaBXOw"
      },
      "execution_count": null,
      "outputs": []
    },
    {
      "cell_type": "code",
      "source": [
        "df_filtered = df_filtered.withColumn(\"sentiment_label\", when(col(\"sentiment\") == \"Positive\", 1).otherwise(0))"
      ],
      "metadata": {
        "id": "ggeR5XLsBYqG"
      },
      "execution_count": null,
      "outputs": []
    },
    {
      "cell_type": "code",
      "source": [
        "df_filtered.select(\"ID\", \"sentiment\", \"sentiment_label\").show(5)"
      ],
      "metadata": {
        "colab": {
          "base_uri": "https://localhost:8080/"
        },
        "id": "57KsX868BZve",
        "outputId": "ef5be3a2-244e-4773-e2cb-365cc3be5793"
      },
      "execution_count": null,
      "outputs": [
        {
          "output_type": "stream",
          "name": "stdout",
          "text": [
            "+---+---------+---------------+\n",
            "| ID|sentiment|sentiment_label|\n",
            "+---+---------+---------------+\n",
            "|  1| Negative|              0|\n",
            "|  1| Negative|              0|\n",
            "|  2| Negative|              0|\n",
            "|  2| Negative|              0|\n",
            "|  2| Negative|              0|\n",
            "+---+---------+---------------+\n",
            "only showing top 5 rows\n",
            "\n"
          ]
        }
      ]
    },
    {
      "cell_type": "code",
      "source": [
        "from pyspark.ml.feature import HashingTF, IDF, Tokenizer\n",
        "from pyspark.ml import Pipeline"
      ],
      "metadata": {
        "id": "WU4XarJBBav5"
      },
      "execution_count": null,
      "outputs": []
    },
    {
      "cell_type": "code",
      "source": [
        "tokenizer = Tokenizer(inputCol=\"tweet_content\", outputCol=\"words\")"
      ],
      "metadata": {
        "id": "oX-xNsUnBcGj"
      },
      "execution_count": null,
      "outputs": []
    },
    {
      "cell_type": "code",
      "source": [
        "hashing_tf = HashingTF(inputCol=\"words\", outputCol=\"raw_features\", numFeatures=1000)"
      ],
      "metadata": {
        "id": "cigcVkrNBdS_"
      },
      "execution_count": null,
      "outputs": []
    },
    {
      "cell_type": "code",
      "source": [
        "idf = IDF(inputCol=\"raw_features\", outputCol=\"features\")"
      ],
      "metadata": {
        "id": "iXNst3ydBeZK"
      },
      "execution_count": null,
      "outputs": []
    },
    {
      "cell_type": "code",
      "source": [
        "pipeline = Pipeline(stages=[tokenizer, hashing_tf, idf])"
      ],
      "metadata": {
        "id": "FYZxUNvGBfTY"
      },
      "execution_count": null,
      "outputs": []
    },
    {
      "cell_type": "code",
      "source": [
        "model = pipeline.fit(df_filtered)"
      ],
      "metadata": {
        "id": "sJrkqIF0BgOQ"
      },
      "execution_count": null,
      "outputs": []
    },
    {
      "cell_type": "code",
      "source": [
        "df_features = model.transform(df_filtered)"
      ],
      "metadata": {
        "id": "5-5s_6b0BhVc"
      },
      "execution_count": null,
      "outputs": []
    },
    {
      "cell_type": "code",
      "source": [
        "train_data, test_data = df_features.randomSplit([0.8, 0.2], seed=42)"
      ],
      "metadata": {
        "id": "7t6ph9EqBlHt"
      },
      "execution_count": null,
      "outputs": []
    },
    {
      "cell_type": "code",
      "source": [
        "from pyspark.ml.classification import LogisticRegression"
      ],
      "metadata": {
        "id": "iMpmZwE0BmPD"
      },
      "execution_count": null,
      "outputs": []
    },
    {
      "cell_type": "code",
      "source": [
        "lr = LogisticRegression(labelCol=\"sentiment_label\", featuresCol=\"features\")"
      ],
      "metadata": {
        "id": "EZtvatxiBnT5"
      },
      "execution_count": null,
      "outputs": []
    },
    {
      "cell_type": "code",
      "source": [
        "lr_model = lr.fit(train_data)"
      ],
      "metadata": {
        "id": "5YY0z8z7BoZn"
      },
      "execution_count": null,
      "outputs": []
    },
    {
      "cell_type": "code",
      "source": [
        "predictions = lr_model.transform(test_data)"
      ],
      "metadata": {
        "id": "RWd9nsqCBpWs"
      },
      "execution_count": null,
      "outputs": []
    },
    {
      "cell_type": "code",
      "source": [
        "predictions.select(\"ID\", \"sentiment\", \"sentiment_label\", \"prediction\").show(5)"
      ],
      "metadata": {
        "colab": {
          "base_uri": "https://localhost:8080/"
        },
        "id": "_cockPelByh4",
        "outputId": "7ee10d5f-f072-42bd-f7b9-5d76d73dec1b"
      },
      "execution_count": null,
      "outputs": [
        {
          "output_type": "stream",
          "name": "stdout",
          "text": [
            "+---+---------+---------------+----------+\n",
            "| ID|sentiment|sentiment_label|prediction|\n",
            "+---+---------+---------------+----------+\n",
            "|  2| Negative|              0|       0.0|\n",
            "|  4| Negative|              0|       0.0|\n",
            "|  4| Negative|              0|       0.0|\n",
            "|  9| Negative|              0|       0.0|\n",
            "| 12| Positive|              1|       0.0|\n",
            "+---+---------+---------------+----------+\n",
            "only showing top 5 rows\n",
            "\n"
          ]
        }
      ]
    },
    {
      "cell_type": "code",
      "source": [
        "from pyspark.ml.evaluation import BinaryClassificationEvaluator"
      ],
      "metadata": {
        "id": "9fcBWCP1BzvL"
      },
      "execution_count": null,
      "outputs": []
    },
    {
      "cell_type": "code",
      "source": [
        "evaluator = BinaryClassificationEvaluator(labelCol=\"sentiment_label\", rawPredictionCol=\"prediction\")"
      ],
      "metadata": {
        "id": "ZTMVotIVB1Q4"
      },
      "execution_count": null,
      "outputs": []
    },
    {
      "cell_type": "code",
      "source": [
        "accuracy = evaluator.evaluate(predictions)"
      ],
      "metadata": {
        "id": "yvR7Fb4DB2cC"
      },
      "execution_count": null,
      "outputs": []
    },
    {
      "cell_type": "code",
      "source": [
        "print(\"Model Accuracy: \", accuracy)"
      ],
      "metadata": {
        "colab": {
          "base_uri": "https://localhost:8080/"
        },
        "id": "njgk1eS2B4ee",
        "outputId": "ec1648d6-c6fd-4bc7-dba8-990aa7c6f7f7"
      },
      "execution_count": null,
      "outputs": [
        {
          "output_type": "stream",
          "name": "stdout",
          "text": [
            "Model Accuracy:  0.7536641495447212\n"
          ]
        }
      ]
    }
  ],
  "metadata": {
    "colab": {
      "provenance": []
    },
    "kernelspec": {
      "display_name": "Python 3",
      "name": "python3"
    },
    "language_info": {
      "name": "python"
    }
  },
  "nbformat": 4,
  "nbformat_minor": 0
}